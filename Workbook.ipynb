{
 "cells": [
  {
   "cell_type": "code",
   "execution_count": 1,
   "metadata": {},
   "outputs": [],
   "source": [
    "import pyuff\n",
    "import numpy as np\n",
    "import pandas as pd\n",
    "import matplotlib.pyplot as plt\n",
    "from tqdm import tqdm\n",
    "%load_ext autoreload\n",
    "%autoreload 2\n",
    "%matplotlib qt\n",
    "\n",
    "from lib import Experiment, mac, complex_mac, slide_grid_and_calculate_mac, sliding_mac_procedure"
   ]
  },
  {
   "cell_type": "code",
   "execution_count": 2,
   "metadata": {},
   "outputs": [
    {
     "name": "stderr",
     "output_type": "stream",
     "text": [
      "100%|██████████████████████████████████████████████████████████████████████████████████████████| 40/40 [00:00<?, ?it/s]"
     ]
    },
    {
     "name": "stdout",
     "output_type": "stream",
     "text": [
      "Reading experimental file...\n",
      "Experimental file has been read.\n",
      "Detected geometry: 3x4 points\n",
      "Extracting experimental data...\n",
      "Experimental data processed successfully.\n"
     ]
    },
    {
     "name": "stderr",
     "output_type": "stream",
     "text": [
      "\n"
     ]
    }
   ],
   "source": [
    "exp1 = Experiment('text_10_50_4x4_5v_10av_sine_2800.uff')"
   ]
  },
  {
   "cell_type": "code",
   "execution_count": 3,
   "metadata": {},
   "outputs": [
    {
     "name": "stderr",
     "output_type": "stream",
     "text": [
      "100%|███████████████████████████████████████████████████████████████████████████████| 40/40 [00:00<00:00, 40060.21it/s]"
     ]
    },
    {
     "name": "stdout",
     "output_type": "stream",
     "text": [
      "Reading experimental file...\n",
      "Experimental file has been read.\n",
      "Detected geometry: 3x4 points\n",
      "Extracting experimental data...\n",
      "Experimental data processed successfully.\n"
     ]
    },
    {
     "name": "stderr",
     "output_type": "stream",
     "text": [
      "\n"
     ]
    }
   ],
   "source": [
    "exp2 = Experiment('text_10_50_4x4_5v_10av_sine_8600.uff')"
   ]
  },
  {
   "cell_type": "code",
   "execution_count": null,
   "metadata": {},
   "outputs": [],
   "source": [
    "wds = exp1.fit_curves((0,73))"
   ]
  },
  {
   "cell_type": "code",
   "execution_count": 4,
   "metadata": {},
   "outputs": [],
   "source": [
    "exp1.eigenfreqs=[i for i in range(200,10200,200)]\n",
    "exp2.eigenfreqs=[i for i in range(200,10200,200)]"
   ]
  },
  {
   "cell_type": "code",
   "execution_count": null,
   "metadata": {},
   "outputs": [],
   "source": [
    "print([i for i in range(200,10200,200)])"
   ]
  },
  {
   "cell_type": "code",
   "execution_count": 15,
   "metadata": {},
   "outputs": [
    {
     "name": "stdout",
     "output_type": "stream",
     "text": [
      "Constructing mode shapes...\n",
      "0.00020427726609742946\n",
      "0.0002690315234261591\n",
      "0.00037666006358120846\n",
      "0.0002207592166743894\n",
      "0.0004023579850145887\n",
      "0.00029618761433253753\n",
      "0.00040035016458095786\n",
      "0.0004427666652877111\n",
      "0.00025735434356303377\n",
      "0.0004201980706393117\n",
      "0.00043065430658011534\n",
      "0.0004154967885339188\n",
      "Mode shapes constructed.\n",
      "Constructing mode shapes...\n",
      "1.1662714982322941e-05\n",
      "0.0008193908909433885\n",
      "0.0007884184656925534\n",
      "0.0008194769624516603\n",
      "0.000955963033802563\n",
      "0.0011248563058742214\n",
      "0.000954919855672192\n",
      "0.0011325300825695535\n",
      "0.0013902547396362295\n",
      "0.0011022302940769681\n",
      "0.0011523316680491775\n",
      "0.0014958094115708725\n",
      "0.0011121142561018628\n",
      "Mode shapes constructed.\n"
     ]
    }
   ],
   "source": [
    "exp1.construct_mode_shapes()\n",
    "exp2.construct_mode_shapes()"
   ]
  },
  {
   "cell_type": "code",
   "execution_count": null,
   "metadata": {},
   "outputs": [],
   "source": [
    "wbp = exp1.calculate_wbp()"
   ]
  },
  {
   "cell_type": "code",
   "execution_count": null,
   "metadata": {},
   "outputs": [],
   "source": [
    "np.save('wbp36.npy', wbp)"
   ]
  },
  {
   "cell_type": "code",
   "execution_count": null,
   "metadata": {},
   "outputs": [],
   "source": [
    "for x,each in enumerate(wbp):\n",
    "    if each <0:\n",
    "        wbp[x] = np.average(wbp)"
   ]
  },
  {
   "cell_type": "code",
   "execution_count": null,
   "metadata": {},
   "outputs": [],
   "source": [
    "plt.set_cmap('jet')\n",
    "s = plt.imshow(np.rot90(wbp.reshape(exp1.y_length, exp1.x_length)[:,:]))\n",
    "plt.colorbar(s)"
   ]
  },
  {
   "cell_type": "code",
   "execution_count": null,
   "metadata": {},
   "outputs": [],
   "source": [
    "exp2 = Experiment('Scan25(healthy_side_9mm).uff', 'Modeset_25.unv')"
   ]
  },
  {
   "cell_type": "code",
   "execution_count": 16,
   "metadata": {},
   "outputs": [],
   "source": [
    "ms1=exp1.stack_mode_shapes(dims=2)\n",
    "ms2=exp2.stack_mode_shapes(dims=2)"
   ]
  },
  {
   "cell_type": "code",
   "execution_count": null,
   "metadata": {},
   "outputs": [],
   "source": [
    "exp1.velocities[0]"
   ]
  },
  {
   "cell_type": "code",
   "execution_count": null,
   "metadata": {},
   "outputs": [],
   "source": [
    "exp1.raw_data[0]"
   ]
  },
  {
   "cell_type": "code",
   "execution_count": 66,
   "metadata": {
    "scrolled": true
   },
   "outputs": [
    {
     "name": "stderr",
     "output_type": "stream",
     "text": [
      "C:\\Users\\vadim.leshchev\\PycharmProjects\\NDT\\lib.py:492: RuntimeWarning: invalid value encountered in double_scalars\n",
      "  np.vdot(modeset1[i].T, modeset1[i]) * np.vdot(modeset2[j].T, modeset2[j]))\n"
     ]
    },
    {
     "name": "stdout",
     "output_type": "stream",
     "text": [
      "13 0\n",
      "2.5226495024737166e-17\n",
      "(1.51155461222169e-06+0j)\n",
      "(1.360189207589e-10+0j)\n",
      "[-5.14382e-05+0.0001977j   1.47559e-04-0.00022495j\n",
      " -2.41221e-04+0.00028928j -5.51363e-05+0.00021376j\n",
      "  1.84747e-04-0.00035744j -1.42728e-04+0.00025953j\n",
      " -2.25922e-04+0.00033051j  1.64183e-04-0.0004112j\n",
      " -3.17526e-05+0.00025539j -1.68605e-04+0.00038489j\n",
      "  1.51240e-04-0.00040322j -1.48171e-04+0.00038818j]\n",
      "[0.00000e+00+0.00000e+00j 0.00000e+00+0.00000e+00j\n",
      " 0.00000e+00+0.00000e+00j 0.00000e+00+0.00000e+00j\n",
      " 0.00000e+00+0.00000e+00j 0.00000e+00+0.00000e+00j\n",
      " 0.00000e+00+0.00000e+00j 0.00000e+00+0.00000e+00j\n",
      " 0.00000e+00+0.00000e+00j 0.00000e+00+0.00000e+00j\n",
      " 1.12519e-05-3.06817e-06j 0.00000e+00+0.00000e+00j]\n",
      "1\n",
      "1\n",
      "chch= (2.93889713608e-09-4.073006094799999e-09j)\n",
      "scprod= (-5.452858238933e-07+1.7638321191759997e-07j)\n",
      "complex128\n",
      "complex128\n",
      "5.022598433553808e-09\n",
      "2.5226495024737166e-17\n",
      "[ True  True  True  True  True  True False  True  True  True  True  True]\n",
      "13 42\n",
      "5.133520578245072e-15\n",
      "(1.51155461222169e-06+0j)\n",
      "(1.4288043000559001e-05+0j)\n",
      "[-5.14382e-05+0.0001977j   1.47559e-04-0.00022495j\n",
      " -2.41221e-04+0.00028928j -5.51363e-05+0.00021376j\n",
      "  1.84747e-04-0.00035744j -1.42728e-04+0.00025953j\n",
      " -2.25922e-04+0.00033051j  1.64183e-04-0.0004112j\n",
      " -3.17526e-05+0.00025539j -1.68605e-04+0.00038489j\n",
      "  1.51240e-04-0.00040322j -1.48171e-04+0.00038818j]\n",
      "[-0.00070562-0.00041654j -0.00071559-0.00033096j -0.00070618-0.00041575j\n",
      "  0.00086702+0.00040267j  0.00097833+0.00055513j  0.00086843+0.00039711j\n",
      " -0.00105127-0.00042125j -0.00118804-0.00072206j -0.00102455-0.00040646j\n",
      "  0.00108389+0.00039122j  0.00126402+0.00079981j  0.00104588+0.00037807j]\n",
      "1\n",
      "1\n",
      "chch= (-7.027578201329992e-08-1.3958332302400038e-08j)\n",
      "scprod= (-5.452858238933e-07+1.7638321191759997e-07j)\n",
      "complex128\n",
      "complex128\n",
      "7.164859090202034e-08\n",
      "5.133520578245072e-15\n",
      "[ True  True  True  True  True  True False  True  True  True  True  True]\n"
     ]
    }
   ],
   "source": [
    "mac = complex_mac(ms1,ms2)\n",
    "#0.2458"
   ]
  },
  {
   "cell_type": "code",
   "execution_count": 49,
   "metadata": {},
   "outputs": [],
   "source": [
    "a = np.array([-0.0000514382+0.000197695j,\n",
    "0.000147559-0.000224954j,\n",
    "-0.000241221+0.000289284j,\n",
    "-0.0000551363+0.000213763j,\n",
    "0.000184747-0.000357436j,\n",
    "-0.000142728+0.00025953j,\n",
    "0.000225922+0.000330514j,\n",
    "0.000164183-0.000411201j,\n",
    "-0.0000317526+0.000255388j,\n",
    "-0.000168605+0.000384888j,\n",
    "0.00015124-0.000403224j,\n",
    "-0.000148171+0.000388179j\n",
    "])\n",
    "\n",
    "#0.000225922 + 0.000330514j\n",
    "#-2.25922e-04+ 0.00033051j\n",
    "\n",
    "b = np.array([-0.000705615-0.000416544j,\n",
    "-0.000715591-0.000330958j,\n",
    "-0.000706183-0.00041575j,\n",
    "0.000867021+0.000402666j,\n",
    "0.000978332+0.000555129j,\n",
    "0.000868431+0.000397114j,\n",
    "-0.00105127-0.000421255j,\n",
    "-0.00118804-0.000722059j,\n",
    "-0.00102455-0.000406459j,\n",
    "0.00108389+0.000391217j,\n",
    "0.00126402+0.000799812j,\n",
    "0.00104588+0.000378065j])"
   ]
  },
  {
   "cell_type": "code",
   "execution_count": 52,
   "metadata": {},
   "outputs": [
    {
     "data": {
      "text/plain": [
       "array([-0.00070562-0.00041654j, -0.00071559-0.00033096j,\n",
       "       -0.00070618-0.00041575j,  0.00086702+0.00040267j,\n",
       "        0.00097833+0.00055513j,  0.00086843+0.00039711j,\n",
       "       -0.00105127-0.00042125j, -0.00118804-0.00072206j,\n",
       "       -0.00102455-0.00040646j,  0.00108389+0.00039122j,\n",
       "        0.00126402+0.00079981j,  0.00104588+0.00037807j])"
      ]
     },
     "execution_count": 52,
     "metadata": {},
     "output_type": "execute_result"
    }
   ],
   "source": [
    "b"
   ]
  },
  {
   "cell_type": "code",
   "execution_count": 53,
   "metadata": {},
   "outputs": [
    {
     "data": {
      "text/plain": [
       "(-5.452858238933e-07+1.7638321191759997e-07j)"
      ]
     },
     "execution_count": 53,
     "metadata": {},
     "output_type": "execute_result"
    }
   ],
   "source": [
    "np.abs(np.vdot(b,a))"
   ]
  },
  {
   "cell_type": "code",
   "execution_count": 27,
   "metadata": {},
   "outputs": [
    {
     "data": {
      "text/plain": [
       "0.0002376942718720854"
      ]
     },
     "execution_count": 27,
     "metadata": {},
     "output_type": "execute_result"
    }
   ],
   "source": [
    "mac[13][42]\n",
    "(-7.027578201329992e-08+1.3958332302400038e-08j)"
   ]
  },
  {
   "cell_type": "code",
   "execution_count": 23,
   "metadata": {},
   "outputs": [
    {
     "data": {
      "text/plain": [
       "array([[nan, nan, nan, ..., nan, nan, nan],\n",
       "       [nan, nan, nan, ..., nan, nan, nan],\n",
       "       [nan, nan, nan, ..., nan, nan, nan],\n",
       "       ...,\n",
       "       [nan, nan, nan, ..., nan, nan, nan],\n",
       "       [nan, nan, nan, ..., nan, nan, nan],\n",
       "       [nan, nan, nan, ..., nan, nan, nan]])"
      ]
     },
     "execution_count": 23,
     "metadata": {},
     "output_type": "execute_result"
    }
   ],
   "source": [
    "mac"
   ]
  },
  {
   "cell_type": "code",
   "execution_count": null,
   "metadata": {},
   "outputs": [],
   "source": [
    "plt.imshow(mac, cmap = 'jet')\n",
    "plt.colorbar()"
   ]
  },
  {
   "cell_type": "code",
   "execution_count": 8,
   "metadata": {},
   "outputs": [
    {
     "data": {
      "text/plain": [
       "['ERROR: Could not find a version that satisfies the requirement git (from versions: none)',\n",
       " 'ERROR: No matching distribution found for git']"
      ]
     },
     "execution_count": 8,
     "metadata": {},
     "output_type": "execute_result"
    }
   ],
   "source": []
  },
  {
   "cell_type": "code",
   "execution_count": null,
   "metadata": {},
   "outputs": [],
   "source": [
    "plt.imshow(np.rot90(mac), cmap='jet')\n",
    "plt.colorbar()"
   ]
  },
  {
   "cell_type": "code",
   "execution_count": null,
   "metadata": {},
   "outputs": [],
   "source": [
    "sliding_mac_procedure(ms1,ms2,window=(20,20))"
   ]
  },
  {
   "cell_type": "code",
   "execution_count": null,
   "metadata": {},
   "outputs": [],
   "source": [
    "exp2 = Experiment('Scan30_9mm_defected_side_small_region.uff', 'Modeset_30.unv')"
   ]
  },
  {
   "cell_type": "code",
   "execution_count": null,
   "metadata": {},
   "outputs": [],
   "source": [
    "exp3 = Experiment('Scan26_3mm.uff', 'Modeset_26.unv', geometry=(141, 191))"
   ]
  },
  {
   "cell_type": "code",
   "execution_count": null,
   "metadata": {
    "scrolled": true
   },
   "outputs": [],
   "source": [
    "dbrs = exp1.move_and_calculate_dbr_window((5,8), 1)"
   ]
  },
  {
   "cell_type": "code",
   "execution_count": null,
   "metadata": {},
   "outputs": [],
   "source": [
    "dbrs_49 = np.empty((0, len(exp1.mode_shapes)))\n",
    "central = (43, 38)#(42, 36)\n",
    "for y_step in range(2,18,2):\n",
    "    for x_step in range(2,18,2):\n",
    "        print(x_step, y_step)\n",
    "        print((int(central[0]- x_step/2), int(central[1]-y_step/2)), (int(central[0]+x_step/2), int(central[1]-y_step/2)), (int(central[0]-x_step/2), int(central[1]+y_step/2)), (int(central[0]+x_step/2), int(central[1]+y_step/2)))\n",
    "        dbrs_49 = np.append(dbrs_49, [exp1.calculate_dbrs([(int(central[0]- x_step/2), int(central[1]-y_step/2)), (int(central[0]+x_step/2), int(central[1]-y_step/2)), (int(central[0]-x_step/2), int(central[1]+y_step/2)), (int(central[0]+x_step/2), int(central[1]+y_step/2))])], axis=0)"
   ]
  },
  {
   "cell_type": "code",
   "execution_count": null,
   "metadata": {},
   "outputs": [],
   "source": [
    "exp1.visualize_modeshape(52)"
   ]
  },
  {
   "cell_type": "code",
   "execution_count": null,
   "metadata": {},
   "outputs": [],
   "source": [
    "plt.plot(dbrs[3135])\n",
    "plt.title(\"Defect-to-background ratio for defected region (5x8 points region)\")\n",
    "plt.xlabel('Number of mode shape')\n",
    "plt.ylabel('DBR value')"
   ]
  },
  {
   "cell_type": "code",
   "execution_count": null,
   "metadata": {},
   "outputs": [],
   "source": [
    "plot(exp1.DBRs['(40, 32) (45, 32) (40, 40) (45, 40) '])"
   ]
  }
 ],
 "metadata": {
  "kernelspec": {
   "display_name": "Python 3",
   "language": "python",
   "name": "python3"
  },
  "language_info": {
   "codemirror_mode": {
    "name": "ipython",
    "version": 3
   },
   "file_extension": ".py",
   "mimetype": "text/x-python",
   "name": "python",
   "nbconvert_exporter": "python",
   "pygments_lexer": "ipython3",
   "version": "3.8.5"
  }
 },
 "nbformat": 4,
 "nbformat_minor": 4
}
