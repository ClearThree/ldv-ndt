{
 "cells": [
  {
   "cell_type": "code",
   "execution_count": 42,
   "metadata": {},
   "outputs": [
    {
     "name": "stdout",
     "output_type": "stream",
     "text": [
      "The autoreload extension is already loaded. To reload it, use:\n",
      "  %reload_ext autoreload\n"
     ]
    }
   ],
   "source": [
    "import pyuff\n",
    "import numpy as np\n",
    "import pandas as pd\n",
    "import matplotlib.pyplot as plt\n",
    "from tqdm import tqdm\n",
    "%load_ext autoreload\n",
    "%autoreload 2\n",
    "%matplotlib qt\n",
    "\n",
    "from lib import Experiment, mac, complex_mac, slide_grid_and_calculate_mac, sliding_mac"
   ]
  },
  {
   "cell_type": "code",
   "execution_count": 2,
   "metadata": {},
   "outputs": [
    {
     "name": "stdout",
     "output_type": "stream",
     "text": [
      "Reading experimental file...\n"
     ]
    },
    {
     "name": "stderr",
     "output_type": "stream",
     "text": [
      "100%|██████████████████████████████████████████████████████████████████████████| 7279/7279 [00:00<00:00, 814033.83it/s]"
     ]
    },
    {
     "name": "stdout",
     "output_type": "stream",
     "text": [
      "Experimental file has been read.\n",
      "Detected geometry: 75x97 points\n",
      "Extracting experimental data...\n"
     ]
    },
    {
     "name": "stderr",
     "output_type": "stream",
     "text": [
      "\n"
     ]
    },
    {
     "name": "stdout",
     "output_type": "stream",
     "text": [
      "Reading modeset file...\n"
     ]
    },
    {
     "name": "stderr",
     "output_type": "stream",
     "text": [
      "100%|████████████████████████████████████████████████████████████████████████████| 918/918 [00:00<00:00, 460185.38it/s]"
     ]
    },
    {
     "name": "stdout",
     "output_type": "stream",
     "text": [
      "Experimental file has been read.\n",
      "Extracting mode shapes data...\n"
     ]
    },
    {
     "name": "stderr",
     "output_type": "stream",
     "text": [
      "\n"
     ]
    },
    {
     "name": "stdout",
     "output_type": "stream",
     "text": [
      "Constructing mode shapes...\n",
      "Experimental data processed successfully.\n"
     ]
    }
   ],
   "source": [
    "exp1 = Experiment('Scan24(defected_side_9mm).uff', 'Modeset_24.unv')"
   ]
  },
  {
   "cell_type": "code",
   "execution_count": null,
   "metadata": {},
   "outputs": [],
   "source": [
    "wds = exp1.fit_curves((0,73))"
   ]
  },
  {
   "cell_type": "code",
   "execution_count": null,
   "metadata": {},
   "outputs": [],
   "source": [
    "wbp = exp1.calculate_wbp()"
   ]
  },
  {
   "cell_type": "code",
   "execution_count": null,
   "metadata": {},
   "outputs": [],
   "source": [
    "np.save('wbp36.npy', wbp)"
   ]
  },
  {
   "cell_type": "code",
   "execution_count": null,
   "metadata": {},
   "outputs": [],
   "source": [
    "for x,each in enumerate(wbp):\n",
    "    if each <0:\n",
    "        wbp[x] = np.average(wbp)"
   ]
  },
  {
   "cell_type": "code",
   "execution_count": null,
   "metadata": {},
   "outputs": [],
   "source": [
    "plt.set_cmap('jet')\n",
    "s = plt.imshow(np.rot90(wbp.reshape(exp1.y_length, exp1.x_length)[:,:]))\n",
    "plt.colorbar(s)"
   ]
  },
  {
   "cell_type": "code",
   "execution_count": 3,
   "metadata": {},
   "outputs": [
    {
     "name": "stdout",
     "output_type": "stream",
     "text": [
      "Reading experimental file...\n"
     ]
    },
    {
     "name": "stderr",
     "output_type": "stream",
     "text": [
      "100%|██████████████████████████████████████████████████████████████████████████| 7279/7279 [00:00<00:00, 714059.75it/s]"
     ]
    },
    {
     "name": "stdout",
     "output_type": "stream",
     "text": [
      "Experimental file has been read.\n",
      "Detected geometry: 75x97 points\n",
      "Extracting experimental data...\n"
     ]
    },
    {
     "name": "stderr",
     "output_type": "stream",
     "text": [
      "\n"
     ]
    },
    {
     "name": "stdout",
     "output_type": "stream",
     "text": [
      "Reading modeset file...\n"
     ]
    },
    {
     "name": "stderr",
     "output_type": "stream",
     "text": [
      "100%|████████████████████████████████████████████████████████████████████████████| 915/915 [00:00<00:00, 458079.27it/s]"
     ]
    },
    {
     "name": "stdout",
     "output_type": "stream",
     "text": [
      "Experimental file has been read.\n",
      "Extracting mode shapes data...\n"
     ]
    },
    {
     "name": "stderr",
     "output_type": "stream",
     "text": [
      "\n"
     ]
    },
    {
     "name": "stdout",
     "output_type": "stream",
     "text": [
      "Constructing mode shapes...\n",
      "Experimental data processed successfully.\n"
     ]
    }
   ],
   "source": [
    "exp2 = Experiment('Scan25(healthy_side_9mm).uff', 'Modeset_25.unv')"
   ]
  },
  {
   "cell_type": "code",
   "execution_count": 109,
   "metadata": {},
   "outputs": [],
   "source": [
    "ms1=exp1.stack_modeshapes(dims=3)\n",
    "ms2=exp2.stack_modeshapes(dims=3, flip=True)"
   ]
  },
  {
   "cell_type": "code",
   "execution_count": null,
   "metadata": {},
   "outputs": [],
   "source": []
  },
  {
   "cell_type": "code",
   "execution_count": 110,
   "metadata": {},
   "outputs": [],
   "source": [
    "mac = complex_mac(ms1,ms2)"
   ]
  },
  {
   "cell_type": "code",
   "execution_count": 46,
   "metadata": {},
   "outputs": [
    {
     "data": {
      "text/plain": [
       "array([[7.89962561e-02, 8.68985916e-01, 9.64978236e-01, ...,\n",
       "        1.35518313e-02, 7.49853901e-03, 5.10985525e-03],\n",
       "       [1.79049603e-02, 5.08675696e-01, 7.77189323e-01, ...,\n",
       "        3.61719376e-03, 1.84252369e-03, 4.91790719e-03],\n",
       "       [1.17440679e-01, 3.24226477e-01, 6.43623483e-01, ...,\n",
       "        2.55625892e-03, 6.20609973e-04, 6.18451770e-03],\n",
       "       ...,\n",
       "       [3.25615053e-01, 8.74148945e-02, 1.33090300e-02, ...,\n",
       "        1.21277258e-01, 1.45171070e-01, 8.55167224e-02],\n",
       "       [3.25406496e-03, 5.72709626e-02, 9.18688854e-02, ...,\n",
       "        1.28122102e-01, 1.47361347e-01, 1.13147486e-01],\n",
       "       [2.64292631e-03, 3.50182541e-02, 5.45885566e-02, ...,\n",
       "        1.40631208e-01, 1.16622524e-01, 6.61821709e-02]])"
      ]
     },
     "execution_count": 46,
     "metadata": {},
     "output_type": "execute_result"
    }
   ],
   "source": [
    "mac"
   ]
  },
  {
   "cell_type": "code",
   "execution_count": 47,
   "metadata": {},
   "outputs": [
    {
     "data": {
      "text/plain": [
       "<matplotlib.colorbar.Colorbar at 0x209c66fb100>"
      ]
     },
     "execution_count": 47,
     "metadata": {},
     "output_type": "execute_result"
    }
   ],
   "source": [
    "plt.imshow(mac, cmap = 'jet')\n",
    "plt.colorbar()"
   ]
  },
  {
   "cell_type": "code",
   "execution_count": null,
   "metadata": {},
   "outputs": [],
   "source": [
    "plt.imshow(np.rot90(mac), cmap='jet')\n",
    "plt.colorbar()"
   ]
  },
  {
   "cell_type": "code",
   "execution_count": 121,
   "metadata": {},
   "outputs": [
    {
     "name": "stdout",
     "output_type": "stream",
     "text": [
      "0 0 0\n",
      "0 1 1\n",
      "1 0 2\n",
      "1 1 3\n",
      "2 0 4\n",
      "2 1 5\n"
     ]
    }
   ],
   "source": [
    "sliding_mac_procedure(ms1,ms2,window=(20,20))"
   ]
  },
  {
   "cell_type": "code",
   "execution_count": null,
   "metadata": {},
   "outputs": [],
   "source": [
    "exp2 = Experiment('Scan30_9mm_defected_side_small_region.uff', 'Modeset_30.unv')"
   ]
  },
  {
   "cell_type": "code",
   "execution_count": null,
   "metadata": {},
   "outputs": [],
   "source": [
    "exp3 = Experiment('Scan26_3mm.uff', 'Modeset_26.unv', geometry=(141, 191))"
   ]
  },
  {
   "cell_type": "code",
   "execution_count": null,
   "metadata": {
    "scrolled": true
   },
   "outputs": [],
   "source": [
    "dbrs = exp1.move_and_calculate_dbr_window((5,8), 1)"
   ]
  },
  {
   "cell_type": "code",
   "execution_count": null,
   "metadata": {},
   "outputs": [],
   "source": [
    "dbrs_49 = np.empty((0, len(exp1.mode_shapes)))\n",
    "central = (43, 38)#(42, 36)\n",
    "for y_step in range(2,18,2):\n",
    "    for x_step in range(2,18,2):\n",
    "        print(x_step, y_step)\n",
    "        print((int(central[0]- x_step/2), int(central[1]-y_step/2)), (int(central[0]+x_step/2), int(central[1]-y_step/2)), (int(central[0]-x_step/2), int(central[1]+y_step/2)), (int(central[0]+x_step/2), int(central[1]+y_step/2)))\n",
    "        dbrs_49 = np.append(dbrs_49, [exp1.calculate_dbrs([(int(central[0]- x_step/2), int(central[1]-y_step/2)), (int(central[0]+x_step/2), int(central[1]-y_step/2)), (int(central[0]-x_step/2), int(central[1]+y_step/2)), (int(central[0]+x_step/2), int(central[1]+y_step/2))])], axis=0)"
   ]
  },
  {
   "cell_type": "code",
   "execution_count": null,
   "metadata": {},
   "outputs": [],
   "source": [
    "exp1.visualize_modeshape(52)"
   ]
  },
  {
   "cell_type": "code",
   "execution_count": null,
   "metadata": {},
   "outputs": [],
   "source": [
    "plt.plot(dbrs[3135])\n",
    "plt.title(\"Defect-to-background ratio for defected region (5x8 points region)\")\n",
    "plt.xlabel('Number of mode shape')\n",
    "plt.ylabel('DBR value')"
   ]
  },
  {
   "cell_type": "code",
   "execution_count": null,
   "metadata": {},
   "outputs": [],
   "source": [
    "plot(exp1.DBRs['(40, 32) (45, 32) (40, 40) (45, 40) '])"
   ]
  }
 ],
 "metadata": {
  "kernelspec": {
   "display_name": "Python 3",
   "language": "python",
   "name": "python3"
  },
  "language_info": {
   "codemirror_mode": {
    "name": "ipython",
    "version": 3
   },
   "file_extension": ".py",
   "mimetype": "text/x-python",
   "name": "python",
   "nbconvert_exporter": "python",
   "pygments_lexer": "ipython3",
   "version": "3.8.5"
  }
 },
 "nbformat": 4,
 "nbformat_minor": 4
}
